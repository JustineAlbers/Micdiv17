{
 "cells": [
  {
   "cell_type": "markdown",
   "metadata": {},
   "source": [
    "## Crispy CRISPRs\n",
    "David Tian, Audra Devoto, Zoey Werbin and Justine Albers\n",
    "\n",
    "#### Project Overview: \n",
    "\n",
    "We studied bacterial CRISPR-Cas systems in the Sippewissett Salt Marsh pink berry consortium. We matched the CRISPR sequences from full unassembled metagenomic reads of Bacteroidetes, Alphaproteobacteria, purple sulfur bacteria, and sulfate reducing bacteria found in the pink berries with sequences of potential target phage. We created a database of _  to search for SNC (spacer-containing non-CRISPR) reads. We then BLAST-searched the SNCs to investigate if they matched phage sequences. We also constructed a phylogenetic tree for the pink berry bacteria. \n",
    "\n",
    "#### Extracting CRISPR spacers:\n",
    "\n",
    "We used a program called CRASS (http://ctskennerton.github.io/crass/) in order to identify CRISPR spacers in the pink berry metagenome. \n",
    "\n",
    "Input files? : raw metagenomic reads (which metagenome did we end up using?) \n",
    "Output files? : a fasta file with spacer sequences and identifiers\n",
    "\n",
    "#### Creating Metagenome Database: \n",
    "\n",
    "We next filtered reads that already belonged to a binned genome out of the whole metagenome in order to create a database specific to the pink berry community that excluded sequences from the bacteria we extracted CRISPRs from. When we searched our extracted spacers against this database, we found over 50% of the spacers hit metagenomic sequences. Modeling the work of Banfield (2008), we called these metagenomic sequences SNC (spacer-containing, non-CRISPR) reads. \n"
   ]
  },
  {
   "cell_type": "code",
   "execution_count": null,
   "metadata": {
    "collapsed": true
   },
   "outputs": [],
   "source": []
  }
 ],
 "metadata": {
  "kernelspec": {
   "display_name": "Python 2",
   "language": "python",
   "name": "python2"
  },
  "language_info": {
   "codemirror_mode": {
    "name": "ipython",
    "version": 2
   },
   "file_extension": ".py",
   "mimetype": "text/x-python",
   "name": "python",
   "nbconvert_exporter": "python",
   "pygments_lexer": "ipython2",
   "version": "2.7.3"
  }
 },
 "nbformat": 4,
 "nbformat_minor": 0
}

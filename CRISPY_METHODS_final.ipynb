{
 "cells": [
  {
   "cell_type": "markdown",
   "metadata": {},
   "source": [
    "## Crispy CRISPRs\n",
    "David Tian, Audra Devoto, Zoey Werbin and Justine Albers\n",
    "\n",
    "#### Project Overview: \n",
    "\n",
    "We studied bacterial CRISPR-Cas systems in the Sippewissett Salt Marsh pink berry consortium. We matched the CRISPR sequences from full unassembled metagenomic reads of Bacteroidetes, Alphaproteobacteria, purple sulfur bacteria, and sulfate reducing bacteria found in the pink berries with sequences of potential target phage. We created a database of _  to search for SNC (spacer-containing non-CRISPR) reads. We then BLAST-searched the SNCs to investigate if they matched phage sequences. We also constructed a phylogenetic tree for the pink berry bacteria. \n",
    "\n",
    "#### Extracting CRISPR spacers:\n",
    "\n",
    "We primarily used a program called CRASS in order to identify CRISPR spacers in the pink berry metagenome. Download the following programs: \n",
    " \n",
    "Apache (https://httpd.apache.org/download.cgi) - a collaborative software development effort aimed at creating a robust, commercial-grade, featureful, and freely-available source code implementation of an HTTP (Web) server\n",
    "\n",
    "Zlib (http://zlib.net/) - software library used for data compression\n",
    "\n",
    "Bedtools (https://github.com/arq5x/bedtools2/releases) - a swiss-army knife of tools for a wide-range of genomics analysis tasks. The most widely-used tools enable genome arithmetic: that is, set theory on the genome. For example, bedtools allows one to intersect, merge, count, complement, and shuffle genomic intervals from multiple files in widely-used genomic file formats such as BAM, BED, GFF/GTF, VCF.\n",
    "\n",
    "CRASS (http://ctskennerton.github.io/crass/) - CRASS is a tool for finding and assembling reads from genomic and metagenomic datasets that contain Clustered Regularly Interspersed Short Palindromic Repeats (CRISPR). CRASS searches through the dataset and identifies reads which contain repeated K-mers that are of a specific length and are separated by a spacer sequence. These possible direct repeats are then curated internally to remove bad matches and then reads containing direct repeats are then outputed for further analysis.\n",
    "\n",
    "    CRASS input: Moleculo metagenome assembled into contigs\n",
    "\n",
    "    CRASS output: a fasta file with spacer sequences and identifiers\n",
    "\n",
    "**Convert file from BAM to FastQ format:**"
   ]
  },
  {
   "cell_type": "code",
   "execution_count": null,
   "metadata": {
    "collapsed": true
   },
   "outputs": [],
   "source": [
    "bamToFastq -i srb1-otuB_mp-pacbio_correctedReads.bam -fq ../../srb1-otuB_mp-pacbio_correctedReads.fastq\n",
    "crass srb1-otuB_mp-pacbio_correctedReads.fastq\n",
    "makeblastdb -in mydb.fsa -parse_seqids -dbtype nucl\n",
    "sed -e 's/\\(^>.*$\\)/#\\1#/' asmMeta.all.copy.fasta | tr -d \"\\r\" | tr -d \"\\n\" | sed -e 's/$/#/' | tr \"#\" \"\\n\" | sed -e '/^$/d'"
   ]
  },
  {
   "cell_type": "markdown",
   "metadata": {},
   "source": [
    "Next, we need to remove all the reads from the metagenome that contain CRISPR reads. Use the following command to **combine all CRISPR groups:**"
   ]
  },
  {
   "cell_type": "code",
   "execution_count": null,
   "metadata": {
    "collapsed": true
   },
   "outputs": [],
   "source": [
    "cat Group_* > all_crispr_reads.fa"
   ]
  },
  {
   "cell_type": "markdown",
   "metadata": {},
   "source": [
    "**Install BioPython**, a Python package for bioinformatics:"
   ]
  },
  {
   "cell_type": "code",
   "execution_count": null,
   "metadata": {
    "collapsed": true
   },
   "outputs": [],
   "source": [
    "sudo pip install biopython"
   ]
  },
  {
   "cell_type": "markdown",
   "metadata": {},
   "source": [
    "**Linearize the FASTA sequences:**"
   ]
  },
  {
   "cell_type": "code",
   "execution_count": null,
   "metadata": {
    "collapsed": true
   },
   "outputs": [],
   "source": [
    "awk '/^>/ {printf(\"%s%s\\t\",(N>0?\"\\n\":\"\"),$0);N++;next;} {printf(\"%s\",$0);} END {printf(\"\\n\");}' < [YOUR FASTA] > [OUTPUT FILE NAME]"
   ]
  },
  {
   "cell_type": "markdown",
   "metadata": {},
   "source": [
    "**Change format back to FASTA:**"
   ]
  },
  {
   "cell_type": "code",
   "execution_count": null,
   "metadata": {
    "collapsed": true
   },
   "outputs": [],
   "source": [
    "tr \"\\t\" \"\\n\" < [OUTPUT FROM LAST STEP] > [FINAL OUTPUT NAME]"
   ]
  },
  {
   "cell_type": "markdown",
   "metadata": {},
   "source": [
    "**Create the following script, called fasta_remove.py:**"
   ]
  },
  {
   "cell_type": "code",
   "execution_count": null,
   "metadata": {
    "collapsed": true
   },
   "outputs": [],
   "source": [
    "fasta_remove.py\n",
    "\n",
    "#!/usr/bin/env python\n",
    "# -*- coding: utf-8 -*-\n",
    "\n",
    "import sys\n",
    "from Bio import SeqIO\n",
    "\n",
    "fasta_file = sys.argv[1]  # Input fasta file\n",
    "remove_file = sys.argv[2] # Input wanted file, one gene name per line\n",
    "result_file = sys.argv[3] # Output fasta file\n",
    "\n",
    "remove = set()\n",
    "with open(remove_file) as f:\n",
    "    for line in f:\n",
    "        line = line.strip()\n",
    "        if line != \"\":\n",
    "            remove.add(line)\n",
    "\n",
    "fasta_sequences = SeqIO.parse(open(fasta_file),'fasta')\n",
    "\n",
    "with open(result_file, \"w\") as f:\n",
    "    for seq in fasta_sequences:\n",
    "        nuc = seq.seq.tostring()\n",
    "        if nuc not in remove and len(nuc) > 0:\n",
    "            SeqIO.write([seq], f, \"fasta\")\n",
    "\n",
    "chmod +x fasta_remove.py"
   ]
  },
  {
   "cell_type": "markdown",
   "metadata": {},
   "source": [
    "**Call the script we just created:**"
   ]
  },
  {
   "cell_type": "code",
   "execution_count": null,
   "metadata": {
    "collapsed": true
   },
   "outputs": [],
   "source": [
    "./fasta_remove.py asmMeta.fasta crass/all_crispr_reads.fa no_crispr_asmMeta.fasta"
   ]
  },
  {
   "cell_type": "markdown",
   "metadata": {},
   "source": [
    "**Create new BLAST database with this file:**"
   ]
  },
  {
   "cell_type": "code",
   "execution_count": null,
   "metadata": {
    "collapsed": true
   },
   "outputs": [],
   "source": [
    "makeblastdb -in no_crispr_asmMeta.fasta -parse_seqids -dbtype nucl -out asmMetaNoCRISPR -outfmt \n",
    "blastn -db asmMetaNoCRISPR/asmMetaNoCRISPR -query crass/all_spacers.fa -out OUT.csv"
   ]
  },
  {
   "cell_type": "markdown",
   "metadata": {},
   "source": [
    "**Find all the matching IDs in the output. Separate them out from the full metagenome with:**"
   ]
  },
  {
   "cell_type": "code",
   "execution_count": null,
   "metadata": {
    "collapsed": true
   },
   "outputs": [],
   "source": [
    "seqtk subseq in.fq name.lst > out.fq"
   ]
  },
  {
   "cell_type": "markdown",
   "metadata": {},
   "source": [
    "#### Identifying spacer-containing, non-CRISPR reads (SNCs): \n",
    "\n",
    "We filtered reads that already belonged to a binned genome out of the whole metagenome in order to create a database specific to the pink berry community that excluded sequences from the bacteria we extracted CRISPRs from. When we searched our extracted spacers against this database, we found over 50% of the spacers hit metagenomic sequences. Modeling the work of Andersson & Banfield (2008), we called these metagenomic sequences SNC (spacer-containing, non-CRISPR) reads. "
   ]
  },
  {
   "cell_type": "markdown",
   "metadata": {},
   "source": [
    "#### Literature Cited: \n",
    "\n",
    "1) Andersson, A. F., & Banfield, J. F. (2008). Virus population dynamics and acquired virus resistance in natural microbial communities. Science, 320(5879), 1047-1050."
   ]
  }
 ],
 "metadata": {
  "kernelspec": {
   "display_name": "Python 2",
   "language": "python",
   "name": "python2"
  },
  "language_info": {
   "codemirror_mode": {
    "name": "ipython",
    "version": 2
   },
   "file_extension": ".py",
   "mimetype": "text/x-python",
   "name": "python",
   "nbconvert_exporter": "python",
   "pygments_lexer": "ipython2",
   "version": "2.7.3"
  }
 },
 "nbformat": 4,
 "nbformat_minor": 0
}

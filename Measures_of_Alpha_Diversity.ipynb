{
 "cells": [
  {
   "cell_type": "markdown",
   "metadata": {},
   "source": [
    "# Measures of Alpha Diversity "
   ]
  },
  {
   "cell_type": "markdown",
   "metadata": {},
   "source": [
    "First, we'll ssh into our machine. Then, get the data from dropbox:"
   ]
  },
  {
   "cell_type": "code",
   "execution_count": null,
   "metadata": {
    "collapsed": true
   },
   "outputs": [],
   "source": [
    "wget https://www.dropbox.com/s/bomdx08n71lb9z1/may-data-for-class.tgz"
   ]
  },
  {
   "cell_type": "markdown",
   "metadata": {},
   "source": [
    "Next, we need to unzip the file. "
   ]
  },
  {
   "cell_type": "code",
   "execution_count": null,
   "metadata": {
    "collapsed": true
   },
   "outputs": [],
   "source": [
    "tar -xvzf may-data-for-class.tgz"
   ]
  },
  {
   "cell_type": "markdown",
   "metadata": {},
   "source": [
    "Our first processing step will be to count the number of sequences in each sample. This is important because we need to determine what overall sampling depth to use for our analysis. "
   ]
  },
  {
   "cell_type": "code",
   "execution_count": null,
   "metadata": {
    "collapsed": true
   },
   "outputs": [],
   "source": [
    "count_seqs.py -i all_seqs_all_samples.fna_rep_set.fasta"
   ]
  },
  {
   "cell_type": "markdown",
   "metadata": {},
   "source": [
    "Need to go into this directory: "
   ]
  },
  {
   "cell_type": "code",
   "execution_count": null,
   "metadata": {
    "collapsed": true
   },
   "outputs": [],
   "source": [
    "cd uclust_taxa_0.9_10_0.90/"
   ]
  },
  {
   "cell_type": "markdown",
   "metadata": {},
   "source": [
    "Summarize these counts using a summary table. Excluding the output portion of this command (-o) will cause the summary table to be printed in your terminal window. Including -o will store it in a .txt file. "
   ]
  },
  {
   "cell_type": "code",
   "execution_count": null,
   "metadata": {
    "collapsed": true
   },
   "outputs": [],
   "source": [
    "biom summarize_table -i OTU_table_singletonfiltered.biom -o summary_OTU_table_singletonfiltered.txt "
   ]
  },
  {
   "cell_type": "markdown",
   "metadata": {},
   "source": [
    "Instead of choosing just one sampling depth, we decided to create multiple rarefaction curves at different sampling depths. We will run this command in “parallel”, which means that the data will be processed using multiple cores (30 out of our 32. \n",
    "Parameters of the function that we used:\n",
    "-m: minimum sampling depth (look at output from summary table to decide - we went with 1000)\n",
    "-x: maximum sampling depth \n",
    "-i: input OTU table\n",
    "-s: step size\n",
    "-n: number of iterations\n",
    "-o: output (a directory, not a file, because this produces many files)\n",
    "-O: number of “jobs,” or cores\n"
   ]
  },
  {
   "cell_type": "code",
   "execution_count": null,
   "metadata": {
    "collapsed": true
   },
   "outputs": [],
   "source": [
    "parallel_multiple_rarefactions.py -i OTU_table_singletonfiltered.biom -m 8203 -x 38070 -s 5000 -n 10 -o multiple_rare_8203-38070/ -O 30"
   ]
  },
  {
   "cell_type": "markdown",
   "metadata": {},
   "source": [
    "Now that we have our curves, we will calculate some alpha diversity metrics. We chose to calculate Shannon diversity, Chao1, and the 'observed_otus' metrics, but others could have been chosen as well. Full documentation on all measures of alpha diversity that can be calculated in QIIME can be found here: http://scikit-bio.org/docs/latest/generated/skbio.diversity.alpha.html"
   ]
  },
  {
   "cell_type": "code",
   "execution_count": null,
   "metadata": {
    "collapsed": true
   },
   "outputs": [],
   "source": [
    "parallel_alpha_diversity.py -i multiple_rare_8203-38070/ -o alpha_diversity/ -m 'shannon','chao1','observed_otus' -O 30"
   ]
  },
  {
   "cell_type": "markdown",
   "metadata": {},
   "source": [
    "Since we originally created multiple rarefaction curves, and then calculated alpha diversity measures for all of them, we now have multiple different datasets. Our next step is to bind all of those datasets together. "
   ]
  },
  {
   "cell_type": "code",
   "execution_count": null,
   "metadata": {
    "collapsed": true
   },
   "outputs": [],
   "source": [
    "collate_alpha.py -i alpha_diversity/ -o collated_alpha/"
   ]
  },
  {
   "cell_type": "markdown",
   "metadata": {},
   "source": [
    "Now we can make plots to visualize our analyses! "
   ]
  },
  {
   "cell_type": "code",
   "execution_count": null,
   "metadata": {
    "collapsed": true
   },
   "outputs": [],
   "source": [
    "make_rarefaction_plots.py -i collated_alpha/ -m map6.txt -o rarefaction_plots/"
   ]
  },
  {
   "cell_type": "markdown",
   "metadata": {},
   "source": [
    "In order to actually view our plots, we need to convert to a tgz file: "
   ]
  },
  {
   "cell_type": "code",
   "execution_count": null,
   "metadata": {
    "collapsed": true
   },
   "outputs": [],
   "source": [
    "tar -cvzf rarefaction_plots.tgz rarefaction_plots/"
   ]
  },
  {
   "cell_type": "markdown",
   "metadata": {},
   "source": [
    "Almost done! The final step is to move this file onto our desktop. "
   ]
  },
  {
   "cell_type": "code",
   "execution_count": null,
   "metadata": {
    "collapsed": true
   },
   "outputs": [],
   "source": [
    "scp -r -i ~/path/to/key.pem ubuntu@yourpublicDNS:~/may-data-for-class/uclust_taxa_0.9_10_0.90/rarefaction_plots.tgz ~/Desktop\n"
   ]
  }
 ],
 "metadata": {
  "kernelspec": {
   "display_name": "Python 2",
   "language": "python",
   "name": "python2"
  },
  "language_info": {
   "codemirror_mode": {
    "name": "ipython",
    "version": 2
   },
   "file_extension": ".py",
   "mimetype": "text/x-python",
   "name": "python",
   "nbconvert_exporter": "python",
   "pygments_lexer": "ipython2",
   "version": "2.7.3"
  }
 },
 "nbformat": 4,
 "nbformat_minor": 0
}
